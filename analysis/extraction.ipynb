{
 "cells": [
  {
   "cell_type": "code",
   "execution_count": 29,
   "metadata": {
    "collapsed": true
   },
   "outputs": [],
   "source": [
    "import pickle\n",
    "import matplotlib.pyplot as plt\n",
    "import numpy as np"
   ]
  },
  {
   "cell_type": "code",
   "execution_count": 30,
   "metadata": {
    "collapsed": true
   },
   "outputs": [],
   "source": [
    "import os\n",
    "dir = '/Users/signapoop/Desktop/autotune'\n",
    "os.chdir(dir)\n",
    "from autotune.core.HyperbandOptimiser import HyperbandOptimiser\n",
    "from autotune.core.RandomOptimiser import RandomOptimiser\n",
    "from autotune.core.TpeOptimiser import TpeOptimiser"
   ]
  },
  {
   "cell_type": "code",
   "execution_count": 31,
   "metadata": {
    "collapsed": true
   },
   "outputs": [],
   "source": [
    "path = '/Users/signapoop/Desktop/'\n",
    "os.chdir(path)\n"
   ]
  },
  {
   "cell_type": "code",
   "execution_count": 32,
   "metadata": {
    "collapsed": true
   },
   "outputs": [],
   "source": [
    "checkpoints = []\n",
    "Y = []\n",
    "Y_best = []\n",
    "with open('log_summary3.txt') as f:  \n",
    "    for line in f:\n",
    "        chunks = line.split(\" \")\n",
    "        checkpoints.append(float(chunks[5][:-2]))\n",
    "        Y.append(float(chunks[7][:-1]))\n",
    "        Y_best.append(float(chunks[9]))\n",
    "        # print line.split(\" \")"
   ]
  },
  {
   "cell_type": "code",
   "execution_count": 33,
   "metadata": {
    "collapsed": true
   },
   "outputs": [],
   "source": [
    "tpe_opt = TpeOptimiser()\n",
    "tpe_opt.checkpoints = checkpoints\n",
    "tpe_opt.Y = Y  \n",
    "tpe_opt.Y_best = Y_best "
   ]
  },
  {
   "cell_type": "code",
   "execution_count": 34,
   "metadata": {
    "collapsed": true
   },
   "outputs": [],
   "source": [
    "filename = '/Users/signapoop/Desktop/' + 'tpe_only_results.pkl'\n",
    "with open(filename, 'wb') as f:\n",
    "    pickle.dump([tpe_opt], f)"
   ]
  },
  {
   "cell_type": "code",
   "execution_count": 35,
   "metadata": {},
   "outputs": [
    {
     "data": {
      "text/plain": [
       "[332.53,\n",
       " 507.15,\n",
       " 689.23,\n",
       " 1018.36,\n",
       " 1284.04,\n",
       " 1487.85,\n",
       " 1998.68,\n",
       " 2387.09,\n",
       " 2563.39,\n",
       " 2774.81,\n",
       " 3277.09,\n",
       " 3520.73,\n",
       " 3833.33,\n",
       " 4254.86,\n",
       " 4454.25,\n",
       " 4805.36,\n",
       " 4986.47,\n",
       " 5168.33,\n",
       " 5428.32,\n",
       " 5628.48,\n",
       " 6183.22,\n",
       " 6663.1,\n",
       " 7031.81,\n",
       " 7377.29,\n",
       " 7743.94]"
      ]
     },
     "execution_count": 35,
     "metadata": {},
     "output_type": "execute_result"
    }
   ],
   "source": [
    "tpe_opt.checkpoints"
   ]
  },
  {
   "cell_type": "code",
   "execution_count": null,
   "metadata": {
    "collapsed": true
   },
   "outputs": [],
   "source": []
  }
 ],
 "metadata": {
  "kernelspec": {
   "display_name": "Python [conda env:py27]",
   "language": "python",
   "name": "conda-env-py27-py"
  },
  "language_info": {
   "codemirror_mode": {
    "name": "ipython",
    "version": 2
   },
   "file_extension": ".py",
   "mimetype": "text/x-python",
   "name": "python",
   "nbconvert_exporter": "python",
   "pygments_lexer": "ipython2",
   "version": "2.7.14"
  }
 },
 "nbformat": 4,
 "nbformat_minor": 2
}
