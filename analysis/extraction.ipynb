{
 "cells": [
  {
   "cell_type": "code",
   "execution_count": 1,
   "metadata": {
    "collapsed": true
   },
   "outputs": [],
   "source": [
    "import pickle\n",
    "import matplotlib.pyplot as plt\n",
    "import numpy as np"
   ]
  },
  {
   "cell_type": "code",
   "execution_count": 2,
   "metadata": {
    "collapsed": true
   },
   "outputs": [],
   "source": [
    "import os\n",
    "dir = '/Users/signapoop/Desktop/autotune'\n",
    "os.chdir(dir)\n",
    "from autotune.core.HyperbandOptimiser import HyperbandOptimiser\n",
    "from autotune.core.RandomOptimiser import RandomOptimiser\n",
    "from autotune.core.TpeOptimiser import TpeOptimiser"
   ]
  },
  {
   "cell_type": "code",
   "execution_count": 3,
   "metadata": {
    "collapsed": true
   },
   "outputs": [],
   "source": [
    "path = '/Users/signapoop/Desktop/'\n",
    "os.chdir(path)\n"
   ]
  },
  {
   "cell_type": "code",
   "execution_count": 25,
   "metadata": {},
   "outputs": [],
   "source": [
    "checkpoints = []\n",
    "Y = []\n",
    "Y_best = []\n",
    "with open('log_summary2.txt') as f:  \n",
    "    for line in f:\n",
    "        chunks = line.split(\" \")\n",
    "        checkpoints.append(float(chunks[5][:-2]))\n",
    "        Y.append(float(chunks[7][:-1]))\n",
    "        Y_best.append(float(chunks[9]))\n",
    "        # print line.split(\" \")"
   ]
  },
  {
   "cell_type": "code",
   "execution_count": 26,
   "metadata": {},
   "outputs": [],
   "source": [
    "tpe_opt = TpeOptimiser()\n",
    "tpe_opt.checkpoints = checkpoints\n",
    "tpe_opt.Y = Y  \n",
    "tpe_opt.Y_best = Y_best "
   ]
  },
  {
   "cell_type": "code",
   "execution_count": 27,
   "metadata": {
    "collapsed": true
   },
   "outputs": [],
   "source": [
    "filename = '/Users/signapoop/Desktop/' + 'tpe_only_results.pkl'\n",
    "with open(filename, 'wb') as f:\n",
    "    pickle.dump([tpe_opt], f)"
   ]
  },
  {
   "cell_type": "code",
   "execution_count": 28,
   "metadata": {},
   "outputs": [
    {
     "data": {
      "text/plain": [
       "[234.92,\n",
       " 415.88,\n",
       " 599.43,\n",
       " 796.03,\n",
       " 1177.37,\n",
       " 1550.29,\n",
       " 1733.75,\n",
       " 2029.01,\n",
       " 2269.68,\n",
       " 2477.99,\n",
       " 2656.59,\n",
       " 2898.42,\n",
       " 3110.47,\n",
       " 3331.05,\n",
       " 3712.69,\n",
       " 4116.36,\n",
       " 4420.4,\n",
       " 4618.89,\n",
       " 4815.84,\n",
       " 5023.66,\n",
       " 5215.51,\n",
       " 5402.3,\n",
       " 5594.08,\n",
       " 5792.35,\n",
       " 5975.03]"
      ]
     },
     "execution_count": 28,
     "metadata": {},
     "output_type": "execute_result"
    }
   ],
   "source": [
    "tpe_opt.checkpoints"
   ]
  },
  {
   "cell_type": "code",
   "execution_count": null,
   "metadata": {
    "collapsed": true
   },
   "outputs": [],
   "source": []
  }
 ],
 "metadata": {
  "kernelspec": {
   "display_name": "Python [conda env:py27]",
   "language": "python",
   "name": "conda-env-py27-py"
  },
  "language_info": {
   "codemirror_mode": {
    "name": "ipython",
    "version": 2
   },
   "file_extension": ".py",
   "mimetype": "text/x-python",
   "name": "python",
   "nbconvert_exporter": "python",
   "pygments_lexer": "ipython2",
   "version": "2.7.14"
  }
 },
 "nbformat": 4,
 "nbformat_minor": 2
}
