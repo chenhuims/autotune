{
 "cells": [
  {
   "cell_type": "code",
   "execution_count": 25,
   "metadata": {
    "collapsed": true
   },
   "outputs": [],
   "source": [
    "import pickle\n",
    "import matplotlib.pyplot as plt\n",
    "import numpy as np"
   ]
  },
  {
   "cell_type": "code",
   "execution_count": 14,
   "metadata": {
    "collapsed": true
   },
   "outputs": [],
   "source": [
    "import os\n",
    "dir = '/Users/signapoop/Desktop/autotune'\n",
    "os.chdir(dir)\n",
    "from autotune.core.HyperbandOptimiser import HyperbandOptimiser\n",
    "from autotune.core.RandomOptimiser import RandomOptimiser\n",
    "from autotune.core.CIFAR10_problem2 import CIFAR10_problem2\n",
    "from autotune.core.utils import best_value"
   ]
  },
  {
   "cell_type": "code",
   "execution_count": 6,
   "metadata": {},
   "outputs": [],
   "source": [
    "path = '/Users/signapoop/Desktop/autotune/autotune/analysis'\n",
    "os.chdir(path)\n",
    "file = open(\"cifar2.pkl\",'rb')\n",
    "object_file = pickle.load(file)\n",
    "file.close()\n",
    "\n",
    "# Unpack file\n",
    "hyper_opt = object_file[0]\n",
    "random_opt = object_file[1]"
   ]
  },
  {
   "cell_type": "code",
   "execution_count": 8,
   "metadata": {},
   "outputs": [
    {
     "data": {
      "image/png": "[encoded data removed]",
      "text/plain": [
       "<matplotlib.figure.Figure at 0x118b26d90>"
      ]
     },
     "metadata": {},
     "output_type": "display_data"
    }
   ],
   "source": [
    "# Plot convergence\n",
    "fig, ax = plt.subplots(1,1, figsize=(6, 4), dpi=100)\n",
    "ax.plot(hyper_opt.checkpoints, hyper_opt.Y_best, '--bs', label='hyperband_opt')\n",
    "ax.plot(random_opt.checkpoints, random_opt.Y_best, '--kx', label='random_opt')\n",
    "plt.ylabel('Min Validation Error'); plt.xlabel('Time (s)');\n",
    "plt.legend()\n",
    "plt.show()"
   ]
  },
  {
   "cell_type": "code",
   "execution_count": 30,
   "metadata": {
    "collapsed": true
   },
   "outputs": [],
   "source": [
    "hps = hyper_opt.arms[0].keys()\n",
    "arms = {}\n",
    "for hp in hps:\n",
    "    arms[hp] = [arm[hp] for arm in hyper_opt.arms]"
   ]
  },
  {
   "cell_type": "code",
   "execution_count": 31,
   "metadata": {},
   "outputs": [
    {
     "data": {
      "text/plain": [
       "['n_units_2',\n",
       " 'n_units_3',\n",
       " 'n_units_1',\n",
       " 'learning_rate',\n",
       " 'batch_size',\n",
       " 'n_resources']"
      ]
     },
     "execution_count": 31,
     "metadata": {},
     "output_type": "execute_result"
    }
   ],
   "source": [
    "hps"
   ]
  },
  {
   "cell_type": "code",
   "execution_count": 32,
   "metadata": {
    "collapsed": true
   },
   "outputs": [],
   "source": [
    "if 'n_resources' in hps:\n",
    "    hps.remove('n_resources')"
   ]
  },
  {
   "cell_type": "code",
   "execution_count": 33,
   "metadata": {},
   "outputs": [
    {
     "name": "stdout",
     "output_type": "stream",
     "text": [
      "==> Preparing data..\n",
      "Files already downloaded and verified\n",
      "Files already downloaded and verified\n",
      "('Using GPUs? :', False)\n"
     ]
    }
   ],
   "source": [
    "input_dir = '/Users/signapoop/Desktop/data/'\n",
    "output_dir = '/Users/signapoop/Desktop/autotune/autotune/sandpit/checkpoint/'\n",
    "problem = CIFAR10_problem2(input_dir, output_dir)"
   ]
  },
  {
   "cell_type": "code",
   "execution_count": 34,
   "metadata": {},
   "outputs": [],
   "source": [
    "ranges = {}\n",
    "for hp in hps:\n",
    "    ranges[hp] = [problem.domain[hp].get_min(), problem.domain[hp].get_max()]"
   ]
  },
  {
   "cell_type": "code",
   "execution_count": 35,
   "metadata": {},
   "outputs": [
    {
     "data": {
      "text/plain": [
       "{'batch_size': [32, 512],\n",
       " 'learning_rate': [-6, 0],\n",
       " 'n_units_1': [4, 8],\n",
       " 'n_units_2': [4, 8],\n",
       " 'n_units_3': [4, 8]}"
      ]
     },
     "execution_count": 35,
     "metadata": {},
     "output_type": "execute_result"
    }
   ],
   "source": [
    "ranges"
   ]
  },
  {
   "cell_type": "code",
   "execution_count": 36,
   "metadata": {},
   "outputs": [],
   "source": [
    "labels = {}\n",
    "for hp in hps:\n",
    "    labels[hp] = hp\n",
    "    if problem.domain[hp].scale == 'log':\n",
    "        arms[hp] = np.log(arms[hp]) / np.log(problem.domain[hp].logbase)\n",
    "        labels[hp] = labels[hp] + '_log'"
   ]
  },
  {
   "cell_type": "code",
   "execution_count": 45,
   "metadata": {},
   "outputs": [
    {
     "data": {
      "text/html": [
       "<iframe id=\"igraph\" scrolling=\"no\" style=\"border:none;\" seamless=\"seamless\" src=\"https://plot.ly/~leowyaoyang/12.embed\" height=\"525px\" width=\"100%\"></iframe>"
      ],
      "text/plain": [
       "<plotly.tools.PlotlyDisplay object>"
      ]
     },
     "execution_count": 45,
     "metadata": {},
     "output_type": "execute_result"
    }
   ],
   "source": [
    "# Plot parallel coordinates with plotly\n",
    "import plotly.plotly as py\n",
    "import plotly.graph_objs as go\n",
    "\n",
    "data = [\n",
    "    go.Parcoords(\n",
    "        line = dict(color = hyper_opt.Y,\n",
    "                   colorscale = 'Jet',\n",
    "                   showscale = True,\n",
    "                   reversescale = True,\n",
    "                   cmin = 0,\n",
    "                   cmax = 1),\n",
    "        dimensions = [\n",
    "            dict(range = ranges[hp],\n",
    "                 label = labels[hp], values = arms[hp]) for hp in hps\n",
    "        ]\n",
    "    )\n",
    "]\n",
    "\n",
    "py.iplot(data, filename = 'parcoords-advanced', image='png', width=250)"
   ]
  },
  {
   "cell_type": "code",
   "execution_count": 44,
   "metadata": {},
   "outputs": [
    {
     "data": {
      "text/plain": [
       "0.18259999999999998"
      ]
     },
     "execution_count": 44,
     "metadata": {},
     "output_type": "execute_result"
    }
   ],
   "source": [
    "hyper_opt.fx_opt"
   ]
  },
  {
   "cell_type": "code",
   "execution_count": 43,
   "metadata": {},
   "outputs": [
    {
     "data": {
      "text/plain": [
       "{'batch_size': 112,\n",
       " 'learning_rate': 0.0014608877371390437,\n",
       " 'n_resources': 81.0,\n",
       " 'n_units_1': 177,\n",
       " 'n_units_2': 45,\n",
       " 'n_units_3': 165}"
      ]
     },
     "execution_count": 43,
     "metadata": {},
     "output_type": "execute_result"
    }
   ],
   "source": [
    "hyper_opt.arm_opt"
   ]
  },
  {
   "cell_type": "code",
   "execution_count": null,
   "metadata": {
    "collapsed": true
   },
   "outputs": [],
   "source": []
  }
 ],
 "metadata": {
  "kernelspec": {
   "display_name": "Python [conda env:py27]",
   "language": "python",
   "name": "conda-env-py27-py"
  },
  "language_info": {
   "codemirror_mode": {
    "name": "ipython",
    "version": 2
   },
   "file_extension": ".py",
   "mimetype": "text/x-python",
   "name": "python",
   "nbconvert_exporter": "python",
   "pygments_lexer": "ipython2",
   "version": "2.7.14"
  }
 },
 "nbformat": 4,
 "nbformat_minor": 2
}
