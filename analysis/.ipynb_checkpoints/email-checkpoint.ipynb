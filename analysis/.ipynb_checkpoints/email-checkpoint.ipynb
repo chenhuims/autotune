{
 "cells": [
  {
   "cell_type": "code",
   "execution_count": null,
   "metadata": {
    "collapsed": true
   },
   "outputs": [],
   "source": [
    "import smtplib \n",
    "import pyotp\n",
    "from User import User\n",
    "from email.mime.multipart import MIMEMultipart\n",
    "from email.mime.text import MIMEText\n",
    "from email.mime.base import MIMEBase\n",
    "from email import encoders\n",
    "\n",
    "def emailOTPtoUser(targetAddress, message):\n",
    "\tserviceAddress = \"hyperband8@gmail.com\"\n",
    "\tservicePassword = \"Hyperband1\"\n",
    "\n",
    "\tmsg = MIMEMultipart()\n",
    "\tmsg['From'] = serviceAddress\n",
    "\tmsg['To'] = targetAddress\n",
    "\tmsg['Subject'] = \"Your SeenIt OTP\"\n",
    "\t \n",
    "\tbody = message\n",
    "\tmsg.attach(MIMEText(body, 'plain'))\n",
    "\t \n",
    "\tserver = smtplib.SMTP('smtp.gmail.com', 587)\n",
    "\tserver.starttls()\n",
    "\tserver.login(serviceAddress , servicePassword)\n",
    "\ttext = msg.as_string()\n",
    "\tserver.sendmail(serviceAddress, targetAddress, text)\n",
    "\t\n",
    "\tprint(\" \\n Email sent with message: \" + message)\n",
    "\tserver.quit()\n",
    "\n",
    "def main():\n",
    "\t# Ask for username\n",
    "\t#mailto = input(\"Type your email address: \\n \")\n",
    "\tmailto = \"leowyaoyang@gmail.com\"\n",
    "\n",
    "\tmessage = \"\"\n",
    "\temailOTPtoUser(mailto, OTP)\n",
    "\n",
    "\t# Prompt for OTP\n",
    "\ttrial = input(\"Type your OTP: \\n \")\n",
    "\tif u.authenticate(trial):\n",
    "\t\tprint(\"Success!\")\n",
    "\telse:\n",
    "\t\tprint(\"Failure.\")\n",
    "\t\n",
    "main()\n",
    "\n"
   ]
  }
 ],
 "metadata": {
  "kernelspec": {
   "display_name": "Python [conda env:py27]",
   "language": "python",
   "name": "conda-env-py27-py"
  },
  "language_info": {
   "codemirror_mode": {
    "name": "ipython",
    "version": 2
   },
   "file_extension": ".py",
   "mimetype": "text/x-python",
   "name": "python",
   "nbconvert_exporter": "python",
   "pygments_lexer": "ipython2",
   "version": "2.7.14"
  }
 },
 "nbformat": 4,
 "nbformat_minor": 2
}
