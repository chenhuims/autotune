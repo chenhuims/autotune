{
 "cells": [
  {
   "cell_type": "code",
   "execution_count": 1,
   "metadata": {},
   "outputs": [],
   "source": [
    "import os\n",
    "dir = '/Users/signapoop/Desktop/autotune'\n",
    "os.chdir(dir)\n",
    "from autotune.core.RandomOptimiser import RandomOptimiser\n",
    "from autotune.benchmarks.mnist_problem import MnistProblem\n",
    "from autotune.util.best_value import best_value"
   ]
  },
  {
   "cell_type": "code",
   "execution_count": 2,
   "metadata": {},
   "outputs": [],
   "source": [
    "from hyperopt import hp\n",
    "import numpy as np\n",
    "import matplotlib.pyplot as plt\n",
    "import hyperopt.pyll.stochastic\n",
    "import GPyOpt\n",
    "import time"
   ]
  },
  {
   "cell_type": "code",
   "execution_count": 3,
   "metadata": {
    "collapsed": true
   },
   "outputs": [],
   "source": [
    "class TpeOptimiser(RandomOptimiser):\n",
    "    def __init__(self, arms_init=[], val_loss_init=[], Y_init=[]):\n",
    "        super(TpeOptimiser, self).__init__(arms_init, val_loss_init, Y_init)\n",
    "        self.name = \"TpeOptimiser\"\n",
    "    \n",
    "    def run_optimization(self, problem, n_resources=None, max_iter=None, max_time=np.inf, verbosity=False):\n",
    "        # problem provides generate_random_arm and eval_arm(x)\n",
    "        # --- Setting up stop conditions\n",
    "        if (max_iter is None) and (max_time is None):\n",
    "            self.max_iter = 0\n",
    "            self.max_time = np.inf\n",
    "        elif (max_iter is None) and (max_time is not None):\n",
    "            self.max_iter = np.inf\n",
    "            self.max_time = max_time\n",
    "        elif (max_iter is not None) and (max_time is None):\n",
    "            self.max_iter = max_iter\n",
    "            self.max_time = np.inf\n",
    "        else:\n",
    "            self.max_iter = max_iter\n",
    "            self.max_time = max_time\n",
    "\n",
    "        print(\"\\n---- Running hyperband optimisation ----\")\n",
    "        print(\"Resource per iteration = {}\".format(n_resources))\n",
    "        print(\"Max iterations = {}\".format(max_iter))\n",
    "        print(\"----------------------------------------\")\n",
    "\n",
    "        # --- Initialize iterations and running time\n",
    "        self.time_zero = time.time()\n",
    "        self.cum_time = 0\n",
    "        self.num_iterations = 0\n",
    "        trials = hyperopt.Trials()\n",
    "        \n",
    "        # Wrap parameter space\n",
    "        space = self.initialise_hyperopt_space(problem)\n",
    "        \n",
    "        # Wrap function\n",
    "        objective_fn = lambda arm: self.initialise_hyperopt_objective(problem, n_resources, arm)\n",
    "        \n",
    "        # Run optimiser\n",
    "        # TODO: interrupt when time budget is exceeded\n",
    "        # TODO: print results intermittenly\n",
    "        best = hyperopt.fmin(objective_fn, \n",
    "                             space, \n",
    "                             algo=hyperopt.tpe.suggest, \n",
    "                             max_evals=self.max_iter, \n",
    "                             max_time=self.max_time,\n",
    "                             trials=trials,\n",
    "                             verbose=1)\n",
    "        \n",
    "        # Compute statistics\n",
    "        self.arms = []\n",
    "        self.Y = []\n",
    "        self.val_loss = []\n",
    "        self.checkpoints = []\n",
    "        for t in trials.trials:\n",
    "            self.arms.append(t['misc']['vals'])\n",
    "            self.Y.append(t['result']['test_loss'])\n",
    "            self.val_loss.append(t['result']['loss'])\n",
    "            self.checkpoints.append(t['result']['eval_time'] - self.time_zero)\n",
    "            \n",
    "        self.trials = trials\n",
    "        self._compute_results()\n",
    "    \n",
    "    def initialise_hyperopt_objective(self, problem, n_resources, params):\n",
    "        # create model file\n",
    "        arms = problem.construct_arms([params])\n",
    "        # run model\n",
    "        val_loss, Y_new = problem.eval_arm(arms[0], n_resources)\n",
    "        return {'loss': val_loss, 'status': hyperopt.STATUS_OK, 'test_loss': Y_new, 'eval_time': time.time()}\n",
    "    \n",
    "    def initialise_hyperopt_space(self, problem):\n",
    "        def hyperopt_param_converter(hb_param):\n",
    "            name = hb_param.name\n",
    "            min_val = hb_param.get_min()\n",
    "            max_val = hb_param.get_max()\n",
    "            interval = hb_param.interval\n",
    "            if hb_param.scale == \"log\":\n",
    "                assert hb_param.logbase==np.e\n",
    "                if interval:\n",
    "                    return hp.qloguniform(name, min_val, max_val, interval)\n",
    "                else:\n",
    "                    return hp.loguniform(name, min_val, max_val)\n",
    "            else:\n",
    "                if interval:\n",
    "                    return hp.quniform(name, min_val, max_val, interval)\n",
    "                else:\n",
    "                    return hp.uniform(name, min_val, max_val)\n",
    "        space = {}\n",
    "        for p in problem.domain.keys():\n",
    "            space[p] = hyperopt_param_converter(problem.domain[p])\n",
    "        return space"
   ]
  },
  {
   "cell_type": "code",
   "execution_count": 4,
   "metadata": {},
   "outputs": [
    {
     "name": "stdout",
     "output_type": "stream",
     "text": [
      "==> Preparing data..\n",
      "Using GPUs? : False\n"
     ]
    }
   ],
   "source": [
    "input_dir = '/Users/signapoop/Desktop/data/'\n",
    "output_dir = '/Users/signapoop/Desktop/autotune/autotune/experiments/checkpoint/'\n",
    "problem = MnistProblem(input_dir, output_dir)"
   ]
  },
  {
   "cell_type": "code",
   "execution_count": 5,
   "metadata": {},
   "outputs": [
    {
     "data": {
      "text/plain": [
       "{'batch_size': batch_size (20.000000,2000.000000,linear),\n",
       " 'learning_rate': learning_rate (-13.815511,0.000000,log),\n",
       " 'momentum': momentum (0.300000,0.999000,linear),\n",
       " 'weight_decay': weight_decay (-13.815511,-2.302585,log)}"
      ]
     },
     "execution_count": 5,
     "metadata": {},
     "output_type": "execute_result"
    }
   ],
   "source": [
    "problem.domain"
   ]
  },
  {
   "cell_type": "code",
   "execution_count": 6,
   "metadata": {
    "collapsed": true
   },
   "outputs": [],
   "source": [
    "problem.space = {\n",
    "    'batch_size': hp.quniform('batch_size', 20, 2000, 1),\n",
    "    'learning_rate': hp.loguniform('learning_rate', np.log(10**-6), np.log(10**0)),\n",
    "    'momentum': hp.uniform('momentum', 0.3, 0.99),\n",
    "    'weight_decay': hp.loguniform('weight_decay', np.log(10**-6), np.log(10**-1)),\n",
    "}"
   ]
  },
  {
   "cell_type": "code",
   "execution_count": 7,
   "metadata": {},
   "outputs": [
    {
     "name": "stdout",
     "output_type": "stream",
     "text": [
      "-13.815510558\n"
     ]
    }
   ],
   "source": [
    "print problem.domain['learning_rate'].get_min()"
   ]
  },
  {
   "cell_type": "code",
   "execution_count": 8,
   "metadata": {
    "collapsed": true
   },
   "outputs": [],
   "source": [
    "def hyperopt_param_converter(hb_param):\n",
    "    name = hb_param.name\n",
    "    min_val = hb_param.get_min()\n",
    "    max_val = hb_param.get_max()\n",
    "    interval = hb_param.interval\n",
    "    if hb_param.scale == \"log\":\n",
    "        assert hb_param.logbase==np.e\n",
    "        if interval:\n",
    "            return hp.qloguniform(name, min_val, max_val, interval)\n",
    "        else:\n",
    "            return hp.loguniform(name, min_val, max_val)\n",
    "    else:\n",
    "        if interval:\n",
    "            return hp.quniform(name, min_val, max_val, interval)\n",
    "        else:\n",
    "            return hp.uniform(name, min_val, max_val)"
   ]
  },
  {
   "cell_type": "code",
   "execution_count": 9,
   "metadata": {},
   "outputs": [],
   "source": [
    "space = {}\n",
    "for p in problem.domain.keys():\n",
    "    space[p] = hyperopt_param_converter(problem.domain[p])\n",
    "\n",
    "import hyperopt.pyll.stochastic"
   ]
  },
  {
   "cell_type": "code",
   "execution_count": 10,
   "metadata": {},
   "outputs": [
    {
     "name": "stdout",
     "output_type": "stream",
     "text": [
      "{'learning_rate': 1.5917283194694134e-06, 'weight_decay': 0.007095465538945041, 'batch_size': 1642.0, 'momentum': 0.7226068627658329}\n",
      "{'learning_rate': 2.5030421434548792e-06, 'weight_decay': 0.0013190558441182239, 'batch_size': 1003.0, 'momentum': 0.39955328600702783}\n",
      "{'learning_rate': 0.002236039766961883, 'weight_decay': 0.009369588899900942, 'batch_size': 351.0, 'momentum': 0.7137426742168687}\n",
      "{'learning_rate': 0.0014166083847581361, 'weight_decay': 0.0008353023661204306, 'batch_size': 1039.0, 'momentum': 0.9748114423990712}\n",
      "{'learning_rate': 0.029361793044947505, 'weight_decay': 0.004543061397613351, 'batch_size': 114.0, 'momentum': 0.5741830790271535}\n",
      "{'learning_rate': 6.347080878076032e-06, 'weight_decay': 1.3738421334341606e-06, 'batch_size': 272.0, 'momentum': 0.621092193435652}\n",
      "{'learning_rate': 1.0588883819407184e-06, 'weight_decay': 8.788405597658003e-05, 'batch_size': 1310.0, 'momentum': 0.5537930592237199}\n",
      "{'learning_rate': 0.006897753237808243, 'weight_decay': 0.024799975819109824, 'batch_size': 979.0, 'momentum': 0.5749157324756061}\n",
      "{'learning_rate': 0.010876914894283997, 'weight_decay': 0.005834381790250247, 'batch_size': 1645.0, 'momentum': 0.9838403173309374}\n",
      "{'learning_rate': 0.012690253870922652, 'weight_decay': 1.612439134769874e-06, 'batch_size': 124.0, 'momentum': 0.8877837094832646}\n"
     ]
    }
   ],
   "source": [
    "for i in range(10):\n",
    "    print hyperopt.pyll.stochastic.sample(space)"
   ]
  },
  {
   "cell_type": "code",
   "execution_count": 12,
   "metadata": {},
   "outputs": [
    {
     "ename": "TypeError",
     "evalue": "run_optimization() got an unexpected keyword argument 'max_time'",
     "output_type": "error",
     "traceback": [
      "\u001b[0;31m---------------------------------------------------------------------------\u001b[0m",
      "\u001b[0;31mTypeError\u001b[0m                                 Traceback (most recent call last)",
      "\u001b[0;32m<ipython-input-12-290492da7587>\u001b[0m in \u001b[0;36m<module>\u001b[0;34m()\u001b[0m\n\u001b[1;32m      1\u001b[0m \u001b[0mtpe_opt\u001b[0m \u001b[0;34m=\u001b[0m \u001b[0mTpeOptimiser\u001b[0m\u001b[0;34m(\u001b[0m\u001b[0;34m)\u001b[0m\u001b[0;34m\u001b[0m\u001b[0m\n\u001b[0;32m----> 2\u001b[0;31m \u001b[0mtpe_opt\u001b[0m\u001b[0;34m.\u001b[0m\u001b[0mrun_optimization\u001b[0m\u001b[0;34m(\u001b[0m\u001b[0mproblem\u001b[0m\u001b[0;34m,\u001b[0m \u001b[0mn_resources\u001b[0m\u001b[0;34m=\u001b[0m\u001b[0;36m1\u001b[0m\u001b[0;34m,\u001b[0m \u001b[0mmax_time\u001b[0m\u001b[0;34m=\u001b[0m\u001b[0;36m10\u001b[0m\u001b[0;34m)\u001b[0m\u001b[0;34m\u001b[0m\u001b[0m\n\u001b[0m",
      "\u001b[0;31mTypeError\u001b[0m: run_optimization() got an unexpected keyword argument 'max_time'"
     ]
    }
   ],
   "source": [
    "tpe_opt = TpeOptimiser()\n",
    "tpe_opt.run_optimization(problem, n_resources=1, max_time=10)"
   ]
  },
  {
   "cell_type": "code",
   "execution_count": null,
   "metadata": {},
   "outputs": [],
   "source": [
    "tpe_opt.arms"
   ]
  },
  {
   "cell_type": "code",
   "execution_count": null,
   "metadata": {},
   "outputs": [],
   "source": [
    "fig, ax = plt.subplots(1, 1, figsize=(8, 6), dpi=200)\n",
    "ax.plot(tpe_opt.checkpoints, tpe_opt.Y_best, '--bs', label=tpe_opt.name)"
   ]
  },
  {
   "cell_type": "code",
   "execution_count": null,
   "metadata": {},
   "outputs": [],
   "source": [
    "a= 4-2>3"
   ]
  },
  {
   "cell_type": "code",
   "execution_count": null,
   "metadata": {},
   "outputs": [],
   "source": [
    "a"
   ]
  },
  {
   "cell_type": "code",
   "execution_count": null,
   "metadata": {
    "collapsed": true
   },
   "outputs": [],
   "source": []
  }
 ],
 "metadata": {
  "kernelspec": {
   "display_name": "Python [conda env:py27]",
   "language": "python",
   "name": "conda-env-py27-py"
  },
  "language_info": {
   "codemirror_mode": {
    "name": "ipython",
    "version": 2
   },
   "file_extension": ".py",
   "mimetype": "text/x-python",
   "name": "python",
   "nbconvert_exporter": "python",
   "pygments_lexer": "ipython2",
   "version": "2.7.14"
  }
 },
 "nbformat": 4,
 "nbformat_minor": 2
}
