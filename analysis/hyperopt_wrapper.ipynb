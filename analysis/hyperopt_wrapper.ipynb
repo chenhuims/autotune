{
 "cells": [
  {
   "cell_type": "code",
   "execution_count": 1,
   "metadata": {},
   "outputs": [],
   "source": [
    "import os\n",
    "dir = '/Users/signapoop/Desktop/autotune'\n",
    "os.chdir(dir)\n",
    "from autotune.core.RandomOptimiser import RandomOptimiser\n",
    "from autotune.benchmarks.mnist_problem import MnistProblem\n",
    "from autotune.util.best_value import best_value"
   ]
  },
  {
   "cell_type": "code",
   "execution_count": 2,
   "metadata": {},
   "outputs": [],
   "source": [
    "from hyperopt import hp\n",
    "import numpy as np\n",
    "import matplotlib.pyplot as plt\n",
    "import hyperopt.pyll.stochastic\n",
    "import GPyOpt\n",
    "import time"
   ]
  },
  {
   "cell_type": "code",
   "execution_count": 3,
   "metadata": {
    "collapsed": true
   },
   "outputs": [],
   "source": [
    "class TpeOptimiser(RandomOptimiser):\n",
    "    def __init__(self, arms_init=[], val_loss_init=[], Y_init=[]):\n",
    "        super(TpeOptimiser, self).__init__(arms_init, val_loss_init, Y_init)\n",
    "        self.name = \"TpeOptimiser\"\n",
    "    \n",
    "    def run_optimization(self, problem, n_resources=None, max_iter=None, max_time=np.inf, verbosity=False):\n",
    "        # problem provides generate_random_arm and eval_arm(x)\n",
    "        # --- Setting up stop conditions\n",
    "        if (max_iter is None) and (max_time is None):\n",
    "            self.max_iter = 0\n",
    "            self.max_time = np.inf\n",
    "        elif (max_iter is None) and (max_time is not None):\n",
    "            self.max_iter = np.inf\n",
    "            self.max_time = max_time\n",
    "        elif (max_iter is not None) and (max_time is None):\n",
    "            self.max_iter = max_iter\n",
    "            self.max_time = np.inf\n",
    "        else:\n",
    "            self.max_iter = max_iter\n",
    "            self.max_time = max_time\n",
    "\n",
    "        print(\"\\n---- Running hyperband optimisation ----\")\n",
    "        print(\"Resource per iteration = {}\".format(n_resources))\n",
    "        print(\"Max iterations = {}\".format(max_iter))\n",
    "        print(\"----------------------------------------\")\n",
    "\n",
    "        # --- Initialize iterations and running time\n",
    "        self.time_zero = time.time()\n",
    "        self.cum_time = 0\n",
    "        self.num_iterations = 0\n",
    "        trials = hyperopt.Trials()\n",
    "        \n",
    "        # Wrap parameter space\n",
    "        space = self.initialise_hyperopt_space(problem)\n",
    "        \n",
    "        # Wrap function\n",
    "        objective_fn = lambda arm: self.initialise_hyperopt_objective(problem, n_resources, arm)\n",
    "        \n",
    "        # Run optimiser\n",
    "        # TODO: interrupt when time budget is exceeded\n",
    "        # TODO: print results intermittenly\n",
    "        best = hyperopt.fmin(objective_fn, \n",
    "                             space, \n",
    "                             algo=hyperopt.tpe.suggest, \n",
    "                             max_evals=self.max_iter, \n",
    "                             max_time=self.max_time,\n",
    "                             trials=trials,\n",
    "                             verbose=1)\n",
    "        \n",
    "        # Compute statistics\n",
    "        self.arms = []\n",
    "        self.Y = []\n",
    "        self.val_loss = []\n",
    "        self.checkpoints = []\n",
    "        for t in trials.trials:\n",
    "            self.arms.append(t['misc']['vals'])\n",
    "            self.Y.append(t['result']['test_loss'])\n",
    "            self.val_loss.append(t['result']['loss'])\n",
    "            self.checkpoints.append(t['result']['eval_time'] - self.time_zero)\n",
    "            \n",
    "        self.trials = trials\n",
    "        self._compute_results()\n",
    "    \n",
    "    def initialise_hyperopt_objective(self, problem, n_resources, params):\n",
    "        # create model file\n",
    "        arms = problem.construct_arms([params])\n",
    "        # run model\n",
    "        val_loss, Y_new = problem.eval_arm(arms[0], n_resources)\n",
    "        return {'loss': val_loss, 'status': hyperopt.STATUS_OK, 'test_loss': Y_new, 'eval_time': time.time()}\n",
    "    \n",
    "    def initialise_hyperopt_space(self, problem):\n",
    "        def hyperopt_param_converter(hb_param):\n",
    "            name = hb_param.name\n",
    "            min_val = hb_param.get_min()\n",
    "            max_val = hb_param.get_max()\n",
    "            interval = hb_param.interval\n",
    "            if hb_param.scale == \"log\":\n",
    "                assert hb_param.logbase==np.e\n",
    "                if interval:\n",
    "                    return hp.qloguniform(name, min_val, max_val, interval)\n",
    "                else:\n",
    "                    return hp.loguniform(name, min_val, max_val)\n",
    "            else:\n",
    "                if interval:\n",
    "                    return hp.quniform(name, min_val, max_val, interval)\n",
    "                else:\n",
    "                    return hp.uniform(name, min_val, max_val)\n",
    "        space = {}\n",
    "        for p in problem.domain.keys():\n",
    "            space[p] = hyperopt_param_converter(problem.domain[p])\n",
    "        return space"
   ]
  },
  {
   "cell_type": "code",
   "execution_count": 4,
   "metadata": {},
   "outputs": [
    {
     "name": "stdout",
     "output_type": "stream",
     "text": [
      "==> Preparing data..\n",
      "Using GPUs? : False\n"
     ]
    }
   ],
   "source": [
    "input_dir = '/Users/signapoop/Desktop/data/'\n",
    "output_dir = '/Users/signapoop/Desktop/autotune/autotune/experiments/checkpoint/'\n",
    "problem = MnistProblem(input_dir, output_dir)"
   ]
  },
  {
   "cell_type": "code",
   "execution_count": 5,
   "metadata": {},
   "outputs": [
    {
     "data": {
      "text/plain": [
       "{'batch_size': batch_size (20.000000,2000.000000,linear),\n",
       " 'learning_rate': learning_rate (-13.815511,0.000000,log),\n",
       " 'momentum': momentum (0.300000,0.999000,linear),\n",
       " 'weight_decay': weight_decay (-13.815511,-2.302585,log)}"
      ]
     },
     "execution_count": 5,
     "metadata": {},
     "output_type": "execute_result"
    }
   ],
   "source": [
    "problem.domain"
   ]
  },
  {
   "cell_type": "code",
   "execution_count": 6,
   "metadata": {
    "collapsed": true
   },
   "outputs": [],
   "source": [
    "problem.space = {\n",
    "    'batch_size': hp.quniform('batch_size', 20, 2000, 1),\n",
    "    'learning_rate': hp.loguniform('learning_rate', np.log(10**-6), np.log(10**0)),\n",
    "    'momentum': hp.uniform('momentum', 0.3, 0.99),\n",
    "    'weight_decay': hp.loguniform('weight_decay', np.log(10**-6), np.log(10**-1)),\n",
    "}"
   ]
  },
  {
   "cell_type": "code",
   "execution_count": 7,
   "metadata": {},
   "outputs": [
    {
     "name": "stdout",
     "output_type": "stream",
     "text": [
      "-13.815510558\n"
     ]
    }
   ],
   "source": [
    "print problem.domain['learning_rate'].get_min()"
   ]
  },
  {
   "cell_type": "code",
   "execution_count": 8,
   "metadata": {
    "collapsed": true
   },
   "outputs": [],
   "source": [
    "def hyperopt_param_converter(hb_param):\n",
    "    name = hb_param.name\n",
    "    min_val = hb_param.get_min()\n",
    "    max_val = hb_param.get_max()\n",
    "    interval = hb_param.interval\n",
    "    if hb_param.scale == \"log\":\n",
    "        assert hb_param.logbase==np.e\n",
    "        if interval:\n",
    "            return hp.qloguniform(name, min_val, max_val, interval)\n",
    "        else:\n",
    "            return hp.loguniform(name, min_val, max_val)\n",
    "    else:\n",
    "        if interval:\n",
    "            return hp.quniform(name, min_val, max_val, interval)\n",
    "        else:\n",
    "            return hp.uniform(name, min_val, max_val)"
   ]
  },
  {
   "cell_type": "code",
   "execution_count": 9,
   "metadata": {},
   "outputs": [],
   "source": [
    "space = {}\n",
    "for p in problem.domain.keys():\n",
    "    space[p] = hyperopt_param_converter(problem.domain[p])\n",
    "\n",
    "import hyperopt.pyll.stochastic"
   ]
  },
  {
   "cell_type": "code",
   "execution_count": 10,
   "metadata": {},
   "outputs": [
    {
     "name": "stdout",
     "output_type": "stream",
     "text": [
      "{'learning_rate': 0.5331320708530825, 'weight_decay': 0.028873003308550405, 'batch_size': 1660.0, 'momentum': 0.8061051661594743}\n",
      "{'learning_rate': 0.0004333469660501648, 'weight_decay': 0.0023744929135816016, 'batch_size': 768.0, 'momentum': 0.519133673161086}\n",
      "{'learning_rate': 1.3108832522690404e-05, 'weight_decay': 4.185065949760396e-05, 'batch_size': 571.0, 'momentum': 0.31160895772755426}\n",
      "{'learning_rate': 0.000897410422202285, 'weight_decay': 1.0639877805290184e-05, 'batch_size': 38.0, 'momentum': 0.8911648409370543}\n",
      "{'learning_rate': 0.016427845751772398, 'weight_decay': 2.6317775714291143e-05, 'batch_size': 138.0, 'momentum': 0.6578664230618079}\n",
      "{'learning_rate': 1.2698283603877009e-05, 'weight_decay': 0.0022899742358505654, 'batch_size': 1583.0, 'momentum': 0.7783177915668202}\n",
      "{'learning_rate': 0.0022692833384448385, 'weight_decay': 0.0005196245399078936, 'batch_size': 707.0, 'momentum': 0.37509900824448617}\n",
      "{'learning_rate': 7.117260393843797e-05, 'weight_decay': 0.003938507544147467, 'batch_size': 1113.0, 'momentum': 0.8157179238045205}\n",
      "{'learning_rate': 1.4988550247094148e-05, 'weight_decay': 0.0013487632127136353, 'batch_size': 1737.0, 'momentum': 0.5344094064327584}\n",
      "{'learning_rate': 0.0013988865800822854, 'weight_decay': 0.001770461666375151, 'batch_size': 1333.0, 'momentum': 0.45430096288848976}\n"
     ]
    }
   ],
   "source": [
    "for i in range(10):\n",
    "    print hyperopt.pyll.stochastic.sample(space)"
   ]
  },
  {
   "cell_type": "code",
   "execution_count": 16,
   "metadata": {},
   "outputs": [
    {
     "name": "stdout",
     "output_type": "stream",
     "text": [
      "\n",
      "---- Running hyperband optimisation ----\n",
      "Resource per iteration = 1\n",
      "Max iterations = None\n",
      "----------------------------------------\n",
      "0\n",
      "\n",
      "Loading arm with parameters.....\n",
      "{'learning_rate': 0.003205973601636503, 'batch_size': 156.0, 'filename': '/Users/signapoop/Desktop/autotune/autotune/experiments/checkpoint/arm236/model.pth', 'n_resources': 1, 'momentum': 0.9741787286475616, 'weight_decay': 0.0013127978009259687, 'dir': '/Users/signapoop/Desktop/autotune/autotune/experiments/checkpoint/arm236'}\n",
      "\n",
      "Epoch: 0\n",
      " [=================================================================>]  Step: 212ms | Tot: 36s380ms | Loss: 0.477 | Acc: 86.875% (10425/1200 120/120  \n",
      " [=================================================================>]  Step: 866ms | Tot: 37s246ms | Loss: 0.446 | Acc: 87.800% (8780/1000 100/100 \n",
      "num iteration: 1, time elapsed: 3.02s, f_current: 0.13125, f_best: 0.13125\n",
      "\n",
      "Loading arm with parameters.....\n",
      "{'learning_rate': 1.6024737111015886e-05, 'batch_size': 1587.0, 'filename': '/Users/signapoop/Desktop/autotune/autotune/experiments/checkpoint/arm237/model.pth', 'n_resources': 1, 'momentum': 0.6030550890321411, 'weight_decay': 0.004180671418823716, 'dir': '/Users/signapoop/Desktop/autotune/autotune/experiments/checkpoint/arm237'}\n",
      "\n",
      "Epoch: 0\n",
      " [=================================================================>]  Step: 263ms | Tot: 39s999ms | Loss: 2.406 | Acc: 11.725% (1407/1200 120/120  \n",
      " [=================================================================>]  Step: 1s370ms | Tot: 41s370ms | Loss: 2.416 | Acc: 11.520% (1152/1000 100/100 \n",
      "num iteration: 2, time elapsed: 7.15s, f_current: 0.88275, f_best: 0.13125\n",
      "\n",
      "Loading arm with parameters.....\n",
      "{'learning_rate': 1.884545331830669e-05, 'batch_size': 1287.0, 'filename': '/Users/signapoop/Desktop/autotune/autotune/experiments/checkpoint/arm238/model.pth', 'n_resources': 1, 'momentum': 0.7660801985392143, 'weight_decay': 1.9880351520412553e-05, 'dir': '/Users/signapoop/Desktop/autotune/autotune/experiments/checkpoint/arm238'}\n",
      "\n",
      "Epoch: 0\n",
      " [=================================================================>]  Step: 167ms | Tot: 44s264ms | Loss: 2.316 | Acc: 15.325% (1839/1200 120/120 \n",
      " [=================================================================>]  Step: 912ms | Tot: 45s176ms | Loss: 2.325 | Acc: 14.450% (1445/1000 100/100 \n",
      "num iteration: 3, time elapsed: 10.97s, f_current: 0.84675, f_best: 0.13125\n",
      "\n",
      "Loading arm with parameters.....\n",
      "{'learning_rate': 0.002112200758434972, 'batch_size': 88.0, 'filename': '/Users/signapoop/Desktop/autotune/autotune/experiments/checkpoint/arm239/model.pth', 'n_resources': 1, 'momentum': 0.9482556153699955, 'weight_decay': 6.4142886092233755e-06, 'dir': '/Users/signapoop/Desktop/autotune/autotune/experiments/checkpoint/arm239'}\n",
      "\n",
      "Epoch: 0\n",
      " [=================================================================>]  Step: 301ms | Tot: 48s299ms | Loss: 0.406 | Acc: 87.925% (10551/1200 120/120 \n",
      " [=================================================================>]  Step: 847ms | Tot: 49s147ms | Loss: 0.379 | Acc: 88.860% (8886/1000 100/100 \n",
      "num iteration: 4, time elapsed: 14.92s, f_current: 0.12075, f_best: 0.12075\n",
      "\n",
      "Loading arm with parameters.....\n",
      "{'learning_rate': 1.768139940827431e-06, 'batch_size': 1973.0, 'filename': '/Users/signapoop/Desktop/autotune/autotune/experiments/checkpoint/arm240/model.pth', 'n_resources': 1, 'momentum': 0.5604354029450027, 'weight_decay': 0.002909352906477932, 'dir': '/Users/signapoop/Desktop/autotune/autotune/experiments/checkpoint/arm240'}\n",
      "\n",
      "Epoch: 0\n",
      " [=================================================================>]  Step: 255ms | Tot: 52s581ms | Loss: 2.487 | Acc: 7.158% (859/1200 120/120  \n",
      " [=================================================================>]  Step: 871ms | Tot: 53s453ms | Loss: 2.493 | Acc: 7.400% (740/1000 100/100 \n",
      "num iteration: 5, time elapsed: 19.22s, f_current: 0.92842, f_best: 0.12075\n",
      "\n",
      "Loading arm with parameters.....\n",
      "{'learning_rate': 6.385583032790533e-05, 'batch_size': 1265.0, 'filename': '/Users/signapoop/Desktop/autotune/autotune/experiments/checkpoint/arm241/model.pth', 'n_resources': 1, 'momentum': 0.9002072018943279, 'weight_decay': 0.08990931442134434, 'dir': '/Users/signapoop/Desktop/autotune/autotune/experiments/checkpoint/arm241'}\n",
      "\n",
      "Epoch: 0\n",
      " [=================================================================>]  Step: 291ms | Tot: 55s931ms | Loss: 2.385 | Acc: 12.342% (1481/1200 120/120  \n",
      " [=================================================================>]  Step: 848ms | Tot: 56s779ms | Loss: 2.393 | Acc: 12.310% (1231/1000 100/100 \n",
      "num iteration: 6, time elapsed: 22.55s, f_current: 0.87658, f_best: 0.12075\n",
      "\n",
      "Loading arm with parameters.....\n",
      "{'learning_rate': 0.1002611338340395, 'batch_size': 705.0, 'filename': '/Users/signapoop/Desktop/autotune/autotune/experiments/checkpoint/arm242/model.pth', 'n_resources': 1, 'momentum': 0.5711125678660093, 'weight_decay': 0.00019648858105152038, 'dir': '/Users/signapoop/Desktop/autotune/autotune/experiments/checkpoint/arm242'}\n",
      "\n",
      "Epoch: 0\n",
      " [=================================================================>]  Step: 235ms | Tot: 59s277ms | Loss: 0.434 | Acc: 86.775% (10413/1200 120/120 \n",
      " [=================================================================>]  Step: 1s589ms | Tot: 1m867ms | Loss: 0.408 | Acc: 87.800% (8780/1000 100/100 \n",
      "num iteration: 7, time elapsed: 26.64s, f_current: 0.13225, f_best: 0.12075\n",
      "\n",
      "Loading arm with parameters.....\n",
      "{'learning_rate': 3.5394571108169855e-06, 'batch_size': 1065.0, 'filename': '/Users/signapoop/Desktop/autotune/autotune/experiments/checkpoint/arm243/model.pth', 'n_resources': 1, 'momentum': 0.5244850857666632, 'weight_decay': 1.931132313951511e-05, 'dir': '/Users/signapoop/Desktop/autotune/autotune/experiments/checkpoint/arm243'}\n",
      "\n",
      "Epoch: 0\n",
      " [=================================================================>]  Step: 215ms | Tot: 1m3s | Loss: 2.387 | Acc: 13.242% (1589/1200 120/120  \n",
      " [=================================================================>]  Step: 1s13ms | Tot: 1m4s | Loss: 2.382 | Acc: 14.080% (1408/1000 100/100 \n",
      "num iteration: 8, time elapsed: 30.46s, f_current: 0.86758, f_best: 0.12075\n",
      "\n",
      "Loading arm with parameters.....\n",
      "{'learning_rate': 0.002162860244947287, 'batch_size': 1269.0, 'filename': '/Users/signapoop/Desktop/autotune/autotune/experiments/checkpoint/arm244/model.pth', 'n_resources': 1, 'momentum': 0.7107392835724572, 'weight_decay': 1.3378189185364387e-05, 'dir': '/Users/signapoop/Desktop/autotune/autotune/experiments/checkpoint/arm244'}\n",
      "\n",
      "Epoch: 0\n",
      " [=================================================================>]  Step: 177ms | Tot: 1m7s | Loss: 2.148 | Acc: 21.425% (2571/1200 120/120 \n",
      " [=================================================================>]  Step: 1s397ms | Tot: 1m9s | Loss: 2.143 | Acc: 21.890% (2189/1000 100/100 \n",
      "num iteration: 9, time elapsed: 35.03s, f_current: 0.78575, f_best: 0.12075\n",
      "\n",
      "Loading arm with parameters.....\n",
      "{'learning_rate': 0.00950820096045067, 'batch_size': 1755.0, 'filename': '/Users/signapoop/Desktop/autotune/autotune/experiments/checkpoint/arm245/model.pth', 'n_resources': 1, 'momentum': 0.7841718615602326, 'weight_decay': 0.0035583481971328008, 'dir': '/Users/signapoop/Desktop/autotune/autotune/experiments/checkpoint/arm245'}\n",
      "\n",
      "Epoch: 0\n",
      " [=================================================================>]  Step: 265ms | Tot: 1m12s | Loss: 1.680 | Acc: 50.775% (6093/1200 120/120  \n",
      " [=================================================================>]  Step: 1s209ms | Tot: 1m13s | Loss: 1.665 | Acc: 51.740% (5174/1000 100/100 \n",
      "num iteration: 10, time elapsed: 39.07s, f_current: 0.49225, f_best: 0.12075\n",
      "\n",
      "Loading arm with parameters.....\n",
      "{'learning_rate': 0.0006909540421544913, 'batch_size': 193.0, 'filename': '/Users/signapoop/Desktop/autotune/autotune/experiments/checkpoint/arm246/model.pth', 'n_resources': 1, 'momentum': 0.7924590624369242, 'weight_decay': 0.07658324968744251, 'dir': '/Users/signapoop/Desktop/autotune/autotune/experiments/checkpoint/arm246'}\n",
      "\n",
      "Epoch: 0\n",
      " [=================================================================>]  Step: 229ms | Tot: 1m16s | Loss: 1.299 | Acc: 69.325% (8319/1200 120/120  \n",
      " [=================================================================>]  Step: 921ms | Tot: 1m16s | Loss: 1.267 | Acc: 71.210% (7121/1000 100/100 \n"
     ]
    },
    {
     "name": "stdout",
     "output_type": "stream",
     "text": [
      "num iteration: 11, time elapsed: 42.77s, f_current: 0.30675, f_best: 0.12075\n",
      "\n",
      "Loading arm with parameters.....\n",
      "{'learning_rate': 3.0184053431159732e-05, 'batch_size': 863.0, 'filename': '/Users/signapoop/Desktop/autotune/autotune/experiments/checkpoint/arm247/model.pth', 'n_resources': 1, 'momentum': 0.6992120880407375, 'weight_decay': 8.877092755948612e-05, 'dir': '/Users/signapoop/Desktop/autotune/autotune/experiments/checkpoint/arm247'}\n",
      "\n",
      "Epoch: 0\n",
      " [=================================================================>]  Step: 180ms | Tot: 1m19s | Loss: 2.389 | Acc: 12.625% (1515/1200 120/120  \n",
      " [=================================================================>]  Step: 1s557ms | Tot: 1m21s | Loss: 2.382 | Acc: 13.060% (1306/1000 100/100 \n",
      "num iteration: 12, time elapsed: 47.06s, f_current: 0.87375, f_best: 0.12075\n",
      "\n",
      "Loading arm with parameters.....\n",
      "{'learning_rate': 1.7808364596463615e-05, 'batch_size': 109.0, 'filename': '/Users/signapoop/Desktop/autotune/autotune/experiments/checkpoint/arm248/model.pth', 'n_resources': 1, 'momentum': 0.7892147348068883, 'weight_decay': 2.410459494782011e-06, 'dir': '/Users/signapoop/Desktop/autotune/autotune/experiments/checkpoint/arm248'}\n",
      "\n",
      "Epoch: 0\n",
      " [=================================================================>]  Step: 179ms | Tot: 1m24s | Loss: 2.499 | Acc: 7.550% (906/1200 120/120  \n",
      " [=================================================================>]  Step: 952ms | Tot: 1m25s | Loss: 2.513 | Acc: 7.370% (737/1000 100/100 \n",
      "num iteration: 13, time elapsed: 51.20s, f_current: 0.92450, f_best: 0.12075\n",
      "\n",
      "Loading arm with parameters.....\n",
      "{'learning_rate': 0.00013294586442743882, 'batch_size': 1388.0, 'filename': '/Users/signapoop/Desktop/autotune/autotune/experiments/checkpoint/arm249/model.pth', 'n_resources': 1, 'momentum': 0.530848720137031, 'weight_decay': 1.3489169250050824e-06, 'dir': '/Users/signapoop/Desktop/autotune/autotune/experiments/checkpoint/arm249'}\n",
      "\n",
      "Epoch: 0\n",
      " [=================================================================>]  Step: 170ms | Tot: 1m28s | Loss: 2.332 | Acc: 12.908% (1549/1200 120/120  \n",
      " [=================================================================>]  Step: 942ms | Tot: 1m29s | Loss: 2.330 | Acc: 13.060% (1306/1000 100/100 \n",
      "num iteration: 14, time elapsed: 54.85s, f_current: 0.87092, f_best: 0.12075\n",
      "\n",
      "Loading arm with parameters.....\n",
      "{'learning_rate': 0.024421094885826132, 'batch_size': 227.0, 'filename': '/Users/signapoop/Desktop/autotune/autotune/experiments/checkpoint/arm250/model.pth', 'n_resources': 1, 'momentum': 0.8400538732419429, 'weight_decay': 1.2206283201217303e-06, 'dir': '/Users/signapoop/Desktop/autotune/autotune/experiments/checkpoint/arm250'}\n",
      "\n",
      "Epoch: 0\n",
      " [=================================================================>]  Step: 342ms | Tot: 1m33s | Loss: 0.388 | Acc: 88.408% (10609/1200 120/120 \n",
      " [=================================================================>]  Step: 1s451ms | Tot: 1m34s | Loss: 0.364 | Acc: 89.170% (8917/1000 100/100 \n",
      "num iteration: 15, time elapsed: 60.27s, f_current: 0.11592, f_best: 0.11592\n",
      "\n",
      "Loading arm with parameters.....\n",
      "{'learning_rate': 0.0001809547465593921, 'batch_size': 1712.0, 'filename': '/Users/signapoop/Desktop/autotune/autotune/experiments/checkpoint/arm251/model.pth', 'n_resources': 1, 'momentum': 0.5917894037920433, 'weight_decay': 0.00020884719030198648, 'dir': '/Users/signapoop/Desktop/autotune/autotune/experiments/checkpoint/arm251'}\n",
      "\n",
      "Epoch: 0\n",
      " [=================================================================>]  Step: 310ms | Tot: 1m38s | Loss: 2.348 | Acc: 17.575% (2109/1200 120/120  \n",
      " [=================================================================>]  Step: 1s23ms | Tot: 1m39s | Loss: 2.340 | Acc: 18.110% (1811/1000 100/100 \n",
      "num iteration: 16, time elapsed: 65.50s, f_current: 0.82425, f_best: 0.11592\n",
      "\n",
      "Loading arm with parameters.....\n",
      "{'learning_rate': 0.000503823054119476, 'batch_size': 726.0, 'filename': '/Users/signapoop/Desktop/autotune/autotune/experiments/checkpoint/arm252/model.pth', 'n_resources': 1, 'momentum': 0.3681635775307962, 'weight_decay': 7.638575054212094e-06, 'dir': '/Users/signapoop/Desktop/autotune/autotune/experiments/checkpoint/arm252'}\n",
      "\n",
      "Epoch: 0\n",
      " [=================================================================>]  Step: 174ms | Tot: 1m43s | Loss: 2.289 | Acc: 13.575% (1629/1200 120/120  \n",
      " [=================================================================>]  Step: 853ms | Tot: 1m44s | Loss: 2.285 | Acc: 13.520% (1352/1000 100/100 \n",
      "num iteration: 17, time elapsed: 70.11s, f_current: 0.86425, f_best: 0.11592\n",
      "\n",
      "Loading arm with parameters.....\n",
      "{'learning_rate': 0.0001505206869801486, 'batch_size': 28.0, 'filename': '/Users/signapoop/Desktop/autotune/autotune/experiments/checkpoint/arm253/model.pth', 'n_resources': 1, 'momentum': 0.595928744776306, 'weight_decay': 3.066667170113698e-05, 'dir': '/Users/signapoop/Desktop/autotune/autotune/experiments/checkpoint/arm253'}\n",
      "\n",
      "Epoch: 0\n",
      " [=================================================================>]  Step: 224ms | Tot: 1m47s | Loss: 1.438 | Acc: 64.775% (7773/1200 120/120  \n",
      " [=================================================================>]  Step: 960ms | Tot: 1m48s | Loss: 1.411 | Acc: 66.450% (6645/1000 100/100 \n",
      "num iteration: 18, time elapsed: 73.93s, f_current: 0.35225, f_best: 0.11592\n",
      "\n",
      "Loading arm with parameters.....\n",
      "{'learning_rate': 6.958452636365743e-05, 'batch_size': 82.0, 'filename': '/Users/signapoop/Desktop/autotune/autotune/experiments/checkpoint/arm254/model.pth', 'n_resources': 1, 'momentum': 0.6761332101798374, 'weight_decay': 0.02461801933039714, 'dir': '/Users/signapoop/Desktop/autotune/autotune/experiments/checkpoint/arm254'}\n",
      "\n",
      "Epoch: 0\n",
      " [=================================================================>]  Step: 273ms | Tot: 1m51s | Loss: 2.086 | Acc: 27.375% (3285/1200 120/120  \n",
      " [=================================================================>]  Step: 881ms | Tot: 1m52s | Loss: 2.082 | Acc: 28.150% (2815/1000 100/100 \n",
      "num iteration: 19, time elapsed: 78.51s, f_current: 0.72625, f_best: 0.11592\n",
      "\n",
      "Loading arm with parameters.....\n",
      "{'learning_rate': 0.016404487643184897, 'batch_size': 1680.0, 'filename': '/Users/signapoop/Desktop/autotune/autotune/experiments/checkpoint/arm255/model.pth', 'n_resources': 1, 'momentum': 0.5167323169561724, 'weight_decay': 6.607378000789678e-05, 'dir': '/Users/signapoop/Desktop/autotune/autotune/experiments/checkpoint/arm255'}\n",
      "\n",
      "Epoch: 0\n",
      " [=================================================================>]  Step: 261ms | Tot: 1m55s | Loss: 1.519 | Acc: 62.567% (7508/1200 120/120 \n",
      " [=================================================================>]  Step: 992ms | Tot: 1m56s | Loss: 1.495 | Acc: 64.020% (6402/1000 100/100 \n",
      "num iteration: 20, time elapsed: 81.84s, f_current: 0.37433, f_best: 0.11592\n",
      "\n",
      "Loading arm with parameters.....\n",
      "{'learning_rate': 0.9715282493215227, 'batch_size': 407.0, 'filename': '/Users/signapoop/Desktop/autotune/autotune/experiments/checkpoint/arm256/model.pth', 'n_resources': 1, 'momentum': 0.995055674337957, 'weight_decay': 1.2155472468203164e-06, 'dir': '/Users/signapoop/Desktop/autotune/autotune/experiments/checkpoint/arm256'}\n",
      "\n",
      "Epoch: 0\n",
      " [=================================================================>]  Step: 247ms | Tot: 1m59s | Loss: 16.316 | Acc: 85.092% (10211/1200 120/120 \n",
      " [=================================================================>]  Step: 1s957ms | Tot: 2m1s | Loss: 15.276 | Acc: 86.070% (8607/1000 100/100 \n",
      "num iteration: 21, time elapsed: 87.45s, f_current: 0.14908, f_best: 0.11592\n",
      "\n",
      "Loading arm with parameters.....\n",
      "{'learning_rate': 0.1444142687558355, 'batch_size': 422.0, 'filename': '/Users/signapoop/Desktop/autotune/autotune/experiments/checkpoint/arm257/model.pth', 'n_resources': 1, 'momentum': 0.8819541432904183, 'weight_decay': 4.178890805790512e-06, 'dir': '/Users/signapoop/Desktop/autotune/autotune/experiments/checkpoint/arm257'}\n",
      "\n",
      "Epoch: 0\n",
      " [=================================================================>]  Step: 453ms | Tot: 2m5s | Loss: 0.670 | Acc: 87.825% (10539/1200 120/120 \n",
      " [=================================================================>]  Step: 1s302ms | Tot: 2m6s | Loss: 0.608 | Acc: 88.810% (8881/1000 100/100 \n",
      "num iteration: 22, time elapsed: 92.75s, f_current: 0.12175, f_best: 0.11592\n",
      "\n",
      "Loading arm with parameters.....\n",
      "{'learning_rate': 0.05476715046478813, 'batch_size': 393.0, 'filename': '/Users/signapoop/Desktop/autotune/autotune/experiments/checkpoint/arm258/model.pth', 'n_resources': 1, 'momentum': 0.9090113107706008, 'weight_decay': 1.0945745507126815e-06, 'dir': '/Users/signapoop/Desktop/autotune/autotune/experiments/checkpoint/arm258'}\n",
      "\n",
      "Epoch: 0\n"
     ]
    },
    {
     "name": "stdout",
     "output_type": "stream",
     "text": [
      " [=================================================================>]  Step: 207ms | Tot: 2m9s | Loss: 0.501 | Acc: 88.125% (10575/1200 120/120 \n",
      " [=================================================================>]  Step: 797ms | Tot: 2m10s | Loss: 0.456 | Acc: 89.340% (8934/1000 100/100 \n",
      "num iteration: 23, time elapsed: 96.44s, f_current: 0.11875, f_best: 0.11592\n",
      "\n",
      "Loading arm with parameters.....\n",
      "{'learning_rate': 0.9891501457353824, 'batch_size': 438.0, 'filename': '/Users/signapoop/Desktop/autotune/autotune/experiments/checkpoint/arm259/model.pth', 'n_resources': 1, 'momentum': 0.864231326429357, 'weight_decay': 1.3522721300093814e-06, 'dir': '/Users/signapoop/Desktop/autotune/autotune/experiments/checkpoint/arm259'}\n",
      "\n",
      "Epoch: 0\n",
      " [=================================================================>]  Step: 265ms | Tot: 2m13s | Loss: 6.621 | Acc: 84.442% (10133/1200 120/120 \n",
      " [=================================================================>]  Step: 927ms | Tot: 2m14s | Loss: 5.878 | Acc: 85.360% (8536/1000 100/100 \n",
      "num iteration: 24, time elapsed: 99.88s, f_current: 0.15558, f_best: 0.11592\n",
      "\n",
      "Loading arm with parameters.....\n",
      "{'learning_rate': 0.12075014130668436, 'batch_size': 606.0, 'filename': '/Users/signapoop/Desktop/autotune/autotune/experiments/checkpoint/arm260/model.pth', 'n_resources': 1, 'momentum': 0.927798027922532, 'weight_decay': 0.0005930583938812493, 'dir': '/Users/signapoop/Desktop/autotune/autotune/experiments/checkpoint/arm260'}\n",
      "\n",
      "Epoch: 0\n",
      " [=================================================================>]  Step: 326ms | Tot: 2m16s | Loss: 0.726 | Acc: 86.783% (10414/1200 120/120 \n",
      " [=================================================================>]  Step: 1s71ms | Tot: 2m17s | Loss: 0.664 | Acc: 88.310% (8831/1000 100/100 \n",
      "num iteration: 25, time elapsed: 103.29s, f_current: 0.13217, f_best: 0.11592\n",
      "Exiting run, exceeded time budget.\n"
     ]
    }
   ],
   "source": [
    "tpe_opt = TpeOptimiser()\n",
    "tpe_opt.run_optimization(problem, n_resources=1, max_time=100)"
   ]
  },
  {
   "cell_type": "code",
   "execution_count": 17,
   "metadata": {},
   "outputs": [
    {
     "data": {
      "text/plain": [
       "25"
      ]
     },
     "execution_count": 17,
     "metadata": {},
     "output_type": "execute_result"
    }
   ],
   "source": [
    "len(tpe_opt.checkpoints)"
   ]
  },
  {
   "cell_type": "code",
   "execution_count": 13,
   "metadata": {},
   "outputs": [
    {
     "data": {
      "text/plain": [
       "[<matplotlib.lines.Line2D at 0x1192422d0>]"
      ]
     },
     "execution_count": 13,
     "metadata": {},
     "output_type": "execute_result"
    },
    {
     "data": {
      "image/png": "[encoded data removed]",
      "text/plain": [
       "<matplotlib.figure.Figure at 0x119242250>"
      ]
     },
     "metadata": {},
     "output_type": "display_data"
    }
   ],
   "source": [
    "fig, ax = plt.subplots(1, 1, figsize=(8, 6), dpi=200)\n",
    "ax.plot(tpe_opt.checkpoints, tpe_opt.Y_best, '--bs', label=tpe_opt.name)"
   ]
  },
  {
   "cell_type": "code",
   "execution_count": 14,
   "metadata": {},
   "outputs": [],
   "source": [
    "a= 4-2>3"
   ]
  },
  {
   "cell_type": "code",
   "execution_count": 15,
   "metadata": {},
   "outputs": [
    {
     "data": {
      "text/plain": [
       "False"
      ]
     },
     "execution_count": 15,
     "metadata": {},
     "output_type": "execute_result"
    }
   ],
   "source": [
    "a"
   ]
  },
  {
   "cell_type": "code",
   "execution_count": null,
   "metadata": {
    "collapsed": true
   },
   "outputs": [],
   "source": []
  }
 ],
 "metadata": {
  "kernelspec": {
   "display_name": "Python [conda env:py27]",
   "language": "python",
   "name": "conda-env-py27-py"
  },
  "language_info": {
   "codemirror_mode": {
    "name": "ipython",
    "version": 2
   },
   "file_extension": ".py",
   "mimetype": "text/x-python",
   "name": "python",
   "nbconvert_exporter": "python",
   "pygments_lexer": "ipython2",
   "version": "2.7.14"
  }
 },
 "nbformat": 4,
 "nbformat_minor": 2
}
