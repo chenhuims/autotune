{
 "cells": [
  {
   "cell_type": "code",
   "execution_count": 3,
   "metadata": {},
   "outputs": [],
   "source": [
    "from models.cudaconvnet import CudaConvNet"
   ]
  },
  {
   "cell_type": "code",
   "execution_count": 4,
   "metadata": {
    "collapsed": true
   },
   "outputs": [],
   "source": [
    "model = CudaConvNet()"
   ]
  },
  {
   "cell_type": "code",
   "execution_count": 9,
   "metadata": {},
   "outputs": [
    {
     "data": {
      "text/plain": [
       "<bound method CudaConvNet.parameters of CudaConvNet(\n",
       "  (conv1): Conv2d(3, 32, kernel_size=(5, 5), stride=(1, 1), padding=(2, 2))\n",
       "  (conv2): Conv2d(32, 32, kernel_size=(5, 5), stride=(1, 1), padding=(2, 2))\n",
       "  (conv3): Conv2d(32, 64, kernel_size=(5, 5), stride=(1, 1), padding=(2, 2))\n",
       "  (lrn1): LRN(\n",
       "    (average): AvgPool3d(kernel_size=(3, 1, 1), stride=1, padding=(1, 0, 0), ceil_mode=False, count_include_pad=True)\n",
       "  )\n",
       "  (lrn2): LRN(\n",
       "    (average): AvgPool3d(kernel_size=(3, 1, 1), stride=1, padding=(1, 0, 0), ceil_mode=False, count_include_pad=True)\n",
       "  )\n",
       "  (fc1): Linear(in_features=1024, out_features=10, bias=True)\n",
       "  (fc2): Linear(in_features=10, out_features=10, bias=True)\n",
       ")>"
      ]
     },
     "execution_count": 9,
     "metadata": {},
     "output_type": "execute_result"
    }
   ],
   "source": [
    "model.parameters"
   ]
  },
  {
   "cell_type": "code",
   "execution_count": 15,
   "metadata": {},
   "outputs": [
    {
     "name": "stdout",
     "output_type": "stream",
     "text": [
      "torch.Size([32, 3, 5, 5])\n",
      "torch.Size([32])\n",
      "torch.Size([32, 32, 5, 5])\n",
      "torch.Size([32])\n",
      "torch.Size([64, 32, 5, 5])\n",
      "torch.Size([64])\n",
      "torch.Size([10, 1024])\n",
      "torch.Size([10])\n",
      "torch.Size([10, 10])\n",
      "torch.Size([10])\n"
     ]
    }
   ],
   "source": [
    "params = [p for p in model.parameters()]\n",
    "for p in params:\n",
    "    print(p.size())"
   ]
  },
  {
   "cell_type": "code",
   "execution_count": 16,
   "metadata": {},
   "outputs": [
    {
     "data": {
      "text/plain": [
       "Parameter containing:\n",
       "(0 ,0 ,.,.) = \n",
       "  0.0481  0.0050  0.0952  0.0707  0.0353\n",
       " -0.0085 -0.0040  0.0332  0.0478  0.0094\n",
       " -0.0560  0.0507  0.0740 -0.0790  0.0324\n",
       " -0.0700  0.0372  0.0446  0.0074 -0.0912\n",
       " -0.1042  0.0713 -0.0285  0.0725 -0.0625\n",
       "\n",
       "(0 ,1 ,.,.) = \n",
       " -0.0679  0.0690 -0.0141  0.0563 -0.0042\n",
       "  0.1040 -0.0861  0.1017 -0.0345  0.1020\n",
       "  0.1083 -0.0275  0.0886  0.0836 -0.0858\n",
       "  0.0261  0.0265  0.0835 -0.1142  0.1036\n",
       " -0.0244  0.0695  0.0014  0.0073  0.0294\n",
       "\n",
       "(0 ,2 ,.,.) = \n",
       "  0.0881 -0.0592 -0.0594  0.0263 -0.0898\n",
       "  0.0616 -0.0266 -0.0648 -0.0901 -0.0026\n",
       " -0.0254 -0.0071  0.0387 -0.0999  0.0475\n",
       " -0.0660  0.0794 -0.0802 -0.0902 -0.0145\n",
       "  0.0322 -0.0129 -0.0629 -0.0973 -0.1089\n",
       "     ⋮ \n",
       "\n",
       "(1 ,0 ,.,.) = \n",
       "  0.0686 -0.0266 -0.0188 -0.0004 -0.0814\n",
       "  0.0085 -0.0626 -0.0935 -0.0716  0.0640\n",
       "  0.1020 -0.0269 -0.0289  0.1126 -0.0361\n",
       " -0.0866 -0.0174  0.0772  0.0148 -0.0505\n",
       " -0.0965 -0.0582  0.0425 -0.0466 -0.0523\n",
       "\n",
       "(1 ,1 ,.,.) = \n",
       "  0.0658  0.0072 -0.0011 -0.0528  0.0241\n",
       " -0.0450  0.1065  0.0653 -0.0376  0.0636\n",
       "  0.0442  0.0724 -0.0508  0.1046  0.1014\n",
       " -0.0827  0.0195  0.1041 -0.0326  0.0106\n",
       " -0.0853 -0.0131 -0.0046  0.0484 -0.0724\n",
       "\n",
       "(1 ,2 ,.,.) = \n",
       "  0.0235 -0.0598 -0.0928 -0.0822 -0.0700\n",
       " -0.0654 -0.1071  0.1047  0.1052  0.0989\n",
       " -0.0328 -0.1026 -0.0969  0.1104  0.0606\n",
       "  0.0946  0.0967 -0.0320  0.0456  0.0129\n",
       "  0.0413  0.0789 -0.0094  0.1154 -0.0342\n",
       "     ⋮ \n",
       "\n",
       "(2 ,0 ,.,.) = \n",
       "  0.0649  0.0875 -0.0572 -0.0002  0.0422\n",
       "  0.0911  0.0603 -0.0487  0.0779 -0.0676\n",
       "  0.0960  0.1126  0.0555 -0.1063 -0.0448\n",
       "  0.0119  0.0285 -0.1038 -0.0836  0.1150\n",
       "  0.0539 -0.0280 -0.0555 -0.1026  0.0536\n",
       "\n",
       "(2 ,1 ,.,.) = \n",
       "  0.1080 -0.0538  0.0933  0.0365  0.0970\n",
       "  0.1125 -0.0342 -0.0376 -0.0473 -0.0710\n",
       "  0.0764  0.1093 -0.0314 -0.0217  0.0008\n",
       " -0.0093  0.0994 -0.0723  0.0159 -0.0961\n",
       " -0.0898  0.0491  0.0307  0.0873 -0.0785\n",
       "\n",
       "(2 ,2 ,.,.) = \n",
       " -0.0338  0.0321 -0.0604  0.0524 -0.0401\n",
       " -0.0739 -0.0739  0.0432 -0.0524  0.0305\n",
       "  0.0515  0.0149  0.0082 -0.1124 -0.1103\n",
       "  0.0170 -0.0116  0.0928 -0.0646 -0.0605\n",
       " -0.0344  0.0178  0.0734  0.0066 -0.0002\n",
       "...   \n",
       "     ⋮ \n",
       "\n",
       "(29,0 ,.,.) = \n",
       " -0.0483  0.0561  0.0695  0.0998  0.0639\n",
       " -0.0688 -0.0308 -0.0474 -0.0163  0.0028\n",
       "  0.0237  0.1041 -0.0228 -0.0278  0.1029\n",
       "  0.0899  0.0727 -0.0273  0.0991 -0.0751\n",
       " -0.0442  0.0315 -0.0013 -0.0855  0.0901\n",
       "\n",
       "(29,1 ,.,.) = \n",
       "  0.0329 -0.0177 -0.0078  0.0426 -0.0095\n",
       "  0.1025 -0.0162  0.0469  0.0651  0.1055\n",
       "  0.0279  0.0719 -0.0631  0.0762  0.0853\n",
       "  0.0125 -0.0906 -0.0992 -0.0068  0.0576\n",
       " -0.0825  0.0788 -0.0838  0.0488  0.0086\n",
       "\n",
       "(29,2 ,.,.) = \n",
       " -0.0537 -0.0141 -0.0728  0.0436 -0.0888\n",
       "  0.0683 -0.0578  0.1054 -0.0141 -0.0009\n",
       "  0.0114  0.0288 -0.1031  0.0765  0.0014\n",
       "  0.0546 -0.0828 -0.0510  0.0102 -0.0314\n",
       "  0.0834 -0.0105 -0.0160  0.1139  0.1125\n",
       "     ⋮ \n",
       "\n",
       "(30,0 ,.,.) = \n",
       "  0.0403 -0.0657  0.0295 -0.0123  0.0805\n",
       " -0.0235 -0.0237  0.0121 -0.0635 -0.0355\n",
       " -0.0650 -0.0650 -0.0588  0.0236 -0.0999\n",
       "  0.0263  0.0165  0.0318 -0.0685  0.0795\n",
       " -0.0015  0.0516 -0.0974  0.0994  0.0530\n",
       "\n",
       "(30,1 ,.,.) = \n",
       "  0.0907 -0.0296 -0.0093  0.1061  0.0895\n",
       "  0.1111  0.0333  0.0169  0.1071 -0.0421\n",
       "  0.0843  0.0161  0.0395 -0.0501 -0.0788\n",
       " -0.0616 -0.0273  0.0531 -0.0145 -0.1089\n",
       " -0.1037 -0.0688  0.0995 -0.1006  0.0429\n",
       "\n",
       "(30,2 ,.,.) = \n",
       " -0.0915 -0.0651  0.0281  0.1123 -0.0313\n",
       "  0.0286  0.0613  0.0046  0.0713 -0.0362\n",
       " -0.0317  0.0249  0.0745  0.0887  0.1073\n",
       "  0.0156 -0.1134 -0.1149  0.0553  0.0580\n",
       " -0.0272 -0.1055  0.0906  0.0649  0.1128\n",
       "     ⋮ \n",
       "\n",
       "(31,0 ,.,.) = \n",
       " -0.0402  0.0511 -0.0350  0.0927 -0.0532\n",
       " -0.0348  0.1029 -0.0879  0.0798 -0.0498\n",
       " -0.1151  0.0009  0.0267 -0.0967  0.0173\n",
       " -0.0007 -0.0831 -0.0613  0.0358 -0.0743\n",
       " -0.0892 -0.0649 -0.0482  0.0675 -0.0478\n",
       "\n",
       "(31,1 ,.,.) = \n",
       "  0.0512 -0.0171  0.1072 -0.0338  0.1019\n",
       "  0.0850  0.0112 -0.0192  0.0547  0.1114\n",
       " -0.0706 -0.0927  0.0491 -0.0827  0.0103\n",
       " -0.0707  0.0337 -0.0281  0.0219  0.0190\n",
       "  0.0722 -0.0569  0.0695  0.0078  0.0074\n",
       "\n",
       "(31,2 ,.,.) = \n",
       "  0.1047 -0.0411 -0.1079 -0.0654  0.0748\n",
       " -0.0558 -0.0311 -0.0944 -0.0226 -0.0841\n",
       "  0.0194 -0.1049 -0.0803 -0.0848 -0.0864\n",
       " -0.0143  0.0397 -0.0414  0.0343  0.0542\n",
       " -0.0856 -0.0290  0.0988 -0.0081  0.1071\n",
       "[torch.FloatTensor of size 32x3x5x5]"
      ]
     },
     "execution_count": 16,
     "metadata": {},
     "output_type": "execute_result"
    }
   ],
   "source": [
    "params[0]"
   ]
  },
  {
   "cell_type": "code",
   "execution_count": 17,
   "metadata": {
    "collapsed": true
   },
   "outputs": [],
   "source": [
    "import torch.nn as nn\n",
    "import torch.nn.functional as F"
   ]
  },
  {
   "cell_type": "code",
   "execution_count": 18,
   "metadata": {
    "code_folding": [
     0
    ],
    "collapsed": true
   },
   "outputs": [],
   "source": [
    "class LRN(nn.Module):\n",
    "    def __init__(self, local_size=1, alpha=1.0, beta=0.75, ACROSS_CHANNELS=True):\n",
    "        super(LRN, self).__init__()\n",
    "        self.ACROSS_CHANNELS = ACROSS_CHANNELS\n",
    "        if ACROSS_CHANNELS:\n",
    "            self.average=nn.AvgPool3d(kernel_size=(local_size, 1, 1),\n",
    "                    stride=1,\n",
    "                    padding=(int((local_size-1.0)/2), 0, 0))\n",
    "        else:\n",
    "            self.average=nn.AvgPool2d(kernel_size=local_size,\n",
    "                    stride=1,\n",
    "                    padding=int((local_size-1.0)/2))\n",
    "        self.alpha = alpha\n",
    "        self.beta = beta\n",
    "\n",
    "\n",
    "    def forward(self, x):\n",
    "        if self.ACROSS_CHANNELS:\n",
    "            div = x.pow(2).unsqueeze(1)\n",
    "            div = self.average(div).squeeze(1)\n",
    "            div = div.mul(self.alpha).add(1.0).pow(self.beta)\n",
    "        else:\n",
    "            div = x.pow(2)\n",
    "            div = self.average(div)\n",
    "            div = div.mul(self.alpha).add(1.0).pow(self.beta)\n",
    "        x = x.div(div)\n",
    "        return x\n"
   ]
  },
  {
   "cell_type": "code",
   "execution_count": 19,
   "metadata": {
    "collapsed": true
   },
   "outputs": [],
   "source": [
    "class CudaConvNet(nn.Module):\n",
    "    def __init__(self, alpha=0.00005, beta=0.010001):\n",
    "        super(CudaConvNet, self).__init__()\n",
    "\n",
    "        self.conv1 = nn.Conv2d(3, 32, 5, 1, 2)  # n_input, n_output, ks, stride, padding\n",
    "        self.conv2 = nn.Conv2d(32, 32, 5, 1, 2)\n",
    "        self.conv3 = nn.Conv2d(32, 64, 5, 1, 2)\n",
    "\n",
    "        self.lrn1 = LRN(3, alpha, beta)  # local size = 3\n",
    "        self.lrn2 = LRN(3, alpha, beta)\n",
    "\n",
    "        self.fc1 = nn.Linear(64 * 4 * 4, 10)\n",
    "        self.fc2 = nn.Linear(10, 10)\n",
    "\n",
    "    def forward(self, x):\n",
    "        out = self.conv1(x)\n",
    "        out = F.relu(F.max_pool2d(out, 3, 2, 1), inplace=True)  # ks, stride, padding\n",
    "        out = self.lrn1(out)\n",
    "\n",
    "        out = F.relu(self.conv2(out), inplace=True)\n",
    "        out = F.avg_pool2d(out, 3, 2, 1)\n",
    "        out = self.lrn2(out)\n",
    "\n",
    "        out = F.relu(self.conv3(out), inplace=True)\n",
    "        out = F.avg_pool2d(out, 3, 2, 1)\n",
    "\n",
    "        out = out.view(out.size(0), -1)\n",
    "\n",
    "        out = self.fc1(out)\n",
    "        out = self.fc2(out)\n",
    "        return out"
   ]
  },
  {
   "cell_type": "code",
   "execution_count": 29,
   "metadata": {},
   "outputs": [],
   "source": [
    "foo = [p for p in model.conv1.parameters()]"
   ]
  },
  {
   "cell_type": "code",
   "execution_count": 35,
   "metadata": {},
   "outputs": [
    {
     "data": {
      "text/plain": [
       "torch.Size([32, 3, 5, 5])"
      ]
     },
     "execution_count": 35,
     "metadata": {},
     "output_type": "execute_result"
    }
   ],
   "source": [
    "foo[0].size()"
   ]
  },
  {
   "cell_type": "code",
   "execution_count": 38,
   "metadata": {},
   "outputs": [],
   "source": [
    "import torch\n",
    "from torch.autograd import Variable\n",
    "a = Variable(torch.FloatTensor(1), requires_grad=True)"
   ]
  },
  {
   "cell_type": "code",
   "execution_count": 39,
   "metadata": {},
   "outputs": [
    {
     "data": {
      "text/plain": [
       "Variable containing:\n",
       " 0\n",
       "[torch.FloatTensor of size 1]"
      ]
     },
     "execution_count": 39,
     "metadata": {},
     "output_type": "execute_result"
    }
   ],
   "source": [
    "a"
   ]
  },
  {
   "cell_type": "code",
   "execution_count": 40,
   "metadata": {
    "collapsed": true
   },
   "outputs": [],
   "source": [
    "a = a + 5"
   ]
  },
  {
   "cell_type": "code",
   "execution_count": 41,
   "metadata": {},
   "outputs": [
    {
     "data": {
      "text/plain": [
       "Variable containing:\n",
       " 5\n",
       "[torch.FloatTensor of size 1]"
      ]
     },
     "execution_count": 41,
     "metadata": {},
     "output_type": "execute_result"
    }
   ],
   "source": [
    "a"
   ]
  },
  {
   "cell_type": "code",
   "execution_count": 42,
   "metadata": {},
   "outputs": [
    {
     "data": {
      "text/plain": [
       "Variable containing:\n",
       " 0\n",
       "[torch.FloatTensor of size 1]"
      ]
     },
     "execution_count": 42,
     "metadata": {},
     "output_type": "execute_result"
    }
   ],
   "source": [
    "a = Variable(torch.FloatTensor(1), requires_grad=True)\n",
    "a"
   ]
  },
  {
   "cell_type": "code",
   "execution_count": null,
   "metadata": {
    "collapsed": true
   },
   "outputs": [],
   "source": [
    "a = a + 5"
   ]
  }
 ],
 "metadata": {
  "kernelspec": {
   "display_name": "Python [conda env:py27]",
   "language": "python",
   "name": "conda-env-py27-py"
  },
  "language_info": {
   "codemirror_mode": {
    "name": "ipython",
    "version": 2
   },
   "file_extension": ".py",
   "mimetype": "text/x-python",
   "name": "python",
   "nbconvert_exporter": "python",
   "pygments_lexer": "ipython2",
   "version": "2.7.14"
  }
 },
 "nbformat": 4,
 "nbformat_minor": 2
}
